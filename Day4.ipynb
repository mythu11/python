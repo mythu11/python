{
 "cells": [
  {
   "cell_type": "code",
   "execution_count": 2,
   "id": "c0176882-34d2-4577-8083-e786e175315d",
   "metadata": {},
   "outputs": [
    {
     "name": "stdout",
     "output_type": "stream",
     "text": [
      "15\n"
     ]
    }
   ],
   "source": [
    "a=5\n",
    "b=10\n",
    "print(5+10)"
   ]
  },
  {
   "cell_type": "code",
   "execution_count": 5,
   "id": "30e72865-1bcc-4476-9ea6-d64a64bf2e78",
   "metadata": {},
   "outputs": [
    {
     "name": "stdout",
     "output_type": "stream",
     "text": [
      "-5\n"
     ]
    }
   ],
   "source": [
    "a=5\n",
    "b=10\n",
    "print(a-b)"
   ]
  },
  {
   "cell_type": "code",
   "execution_count": 14,
   "id": "42d05311-a846-45a0-b490-214de244142d",
   "metadata": {},
   "outputs": [
    {
     "ename": "ZeroDivisionError",
     "evalue": "division by zero",
     "output_type": "error",
     "traceback": [
      "\u001b[1;31m---------------------------------------------------------------------------\u001b[0m",
      "\u001b[1;31mZeroDivisionError\u001b[0m                         Traceback (most recent call last)",
      "Cell \u001b[1;32mIn[14], line 3\u001b[0m\n\u001b[0;32m      1\u001b[0m a\u001b[38;5;241m=\u001b[39m\u001b[38;5;241m12\u001b[39m\n\u001b[0;32m      2\u001b[0m b\u001b[38;5;241m=\u001b[39m\u001b[38;5;241m0\u001b[39m\n\u001b[1;32m----> 3\u001b[0m \u001b[38;5;28mprint\u001b[39m(a\u001b[38;5;241m/\u001b[39mb)\n",
      "\u001b[1;31mZeroDivisionError\u001b[0m: division by zero"
     ]
    }
   ],
   "source": [
    "a=12\n",
    "b=0\n",
    "print(a/b)"
   ]
  },
  {
   "cell_type": "code",
   "execution_count": 13,
   "id": "5f183935-9f0d-49df-80bd-39930bc463fe",
   "metadata": {},
   "outputs": [
    {
     "name": "stdout",
     "output_type": "stream",
     "text": [
      "5\n"
     ]
    }
   ],
   "source": [
    "a=5\n",
    "b=10\n",
    "print(a%b)"
   ]
  },
  {
   "cell_type": "code",
   "execution_count": 12,
   "id": "e1862e00-2c01-4b27-a857-bf8bd1b795fe",
   "metadata": {},
   "outputs": [
    {
     "name": "stdout",
     "output_type": "stream",
     "text": [
      "0\n"
     ]
    }
   ],
   "source": [
    "a=5\n",
    "b=10\n",
    "print(a//b)"
   ]
  },
  {
   "cell_type": "code",
   "execution_count": 15,
   "id": "1f41fc01-d0c0-4d0c-b0a6-7384c3f77efe",
   "metadata": {},
   "outputs": [
    {
     "name": "stdout",
     "output_type": "stream",
     "text": [
      "hihihihihi\n"
     ]
    }
   ],
   "source": [
    "a=5\n",
    "b=\"hi\"\n",
    "print(5*\"hi\")"
   ]
  },
  {
   "cell_type": "code",
   "execution_count": 18,
   "id": "14e159b9-db86-4e3a-be43-fd3f7fcac22e",
   "metadata": {},
   "outputs": [],
   "source": [
    "a=2\n",
    "a-=1"
   ]
  },
  {
   "cell_type": "code",
   "execution_count": 19,
   "id": "0aa044fc-0425-42df-87bc-85989684a724",
   "metadata": {},
   "outputs": [
    {
     "name": "stdout",
     "output_type": "stream",
     "text": [
      "1024\n"
     ]
    }
   ],
   "source": [
    "a=4\n",
    "b=5\n",
    "print(a**b)"
   ]
  },
  {
   "cell_type": "code",
   "execution_count": 20,
   "id": "314e31ce-59e1-47e7-b230-1aa314aa2e0f",
   "metadata": {},
   "outputs": [
    {
     "name": "stdout",
     "output_type": "stream",
     "text": [
      "4\n"
     ]
    }
   ],
   "source": [
    "a=8\n",
    "a-=4\n",
    "print(a)"
   ]
  },
  {
   "cell_type": "code",
   "execution_count": 22,
   "id": "ba1fdfae-7d23-4799-8509-7c3cc593c42b",
   "metadata": {},
   "outputs": [],
   "source": [
    "v=10"
   ]
  },
  {
   "cell_type": "code",
   "execution_count": null,
   "id": "3ac754eb-6af4-460f-a735-6a22908b83dc",
   "metadata": {},
   "outputs": [],
   "source": [
    "v-"
   ]
  }
 ],
 "metadata": {
  "kernelspec": {
   "display_name": "Python 3 (ipykernel)",
   "language": "python",
   "name": "python3"
  },
  "language_info": {
   "codemirror_mode": {
    "name": "ipython",
    "version": 3
   },
   "file_extension": ".py",
   "mimetype": "text/x-python",
   "name": "python",
   "nbconvert_exporter": "python",
   "pygments_lexer": "ipython3",
   "version": "3.12.7"
  }
 },
 "nbformat": 4,
 "nbformat_minor": 5
}
