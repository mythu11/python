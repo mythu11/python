{
 "cells": [
  {
   "cell_type": "code",
   "execution_count": 6,
   "id": "c6816281-df55-44d9-b7f8-2810b5b93f8f",
   "metadata": {},
   "outputs": [
    {
     "name": "stdout",
     "output_type": "stream",
     "text": [
      "{'kavi1': 90, 'mythili2': 82, 'somi3': 66}\n"
     ]
    }
   ],
   "source": [
    "k={\"kavi1\":90,\"mythili2\":82,\"somi3\":66}\n",
    "print(k)"
   ]
  },
  {
   "cell_type": "code",
   "execution_count": null,
   "id": "42118f73-d71e-4d1b-9444-91294c057ffb",
   "metadata": {},
   "outputs": [],
   "source": []
  }
 ],
 "metadata": {
  "kernelspec": {
   "display_name": "Python 3 (ipykernel)",
   "language": "python",
   "name": "python3"
  },
  "language_info": {
   "codemirror_mode": {
    "name": "ipython",
    "version": 3
   },
   "file_extension": ".py",
   "mimetype": "text/x-python",
   "name": "python",
   "nbconvert_exporter": "python",
   "pygments_lexer": "ipython3",
   "version": "3.12.7"
  }
 },
 "nbformat": 4,
 "nbformat_minor": 5
}
