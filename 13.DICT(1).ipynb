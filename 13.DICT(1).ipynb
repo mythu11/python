{
 "cells": [
  {
   "cell_type": "code",
   "execution_count": 6,
   "id": "3347f963-3fcc-46ad-8a71-9a77101def62",
   "metadata": {},
   "outputs": [
    {
     "data": {
      "text/plain": [
       "{'child1': {'name': 'Emil', 'year': 2004},\n",
       " 'child2': {'name': 'Tobias', 'year': 2007},\n",
       " 'child3': {'name': 'Linus', 'year': 2011}}"
      ]
     },
     "execution_count": 6,
     "metadata": {},
     "output_type": "execute_result"
    }
   ],
   "source": [
    "myfamily = {\n",
    "  \"child1\" : {\"name\" : \"Emil\",\"year\" : 2004 },\n",
    "  \"child2\" : {\"name\" : \"Tobias\",\"year\" : 2007},\n",
    "  \"child3\" : {\"name\" : \"Linus\",\"year\" : 2011}\n",
    "}\n",
    "\n",
    "myfamily"
   ]
  },
  {
   "cell_type": "code",
   "execution_count": 7,
   "id": "c32e82ae-0d5b-40da-92cb-1788ae086580",
   "metadata": {},
   "outputs": [
    {
     "data": {
      "text/plain": [
       "{'name': 'Emil', 'year': 2004}"
      ]
     },
     "execution_count": 7,
     "metadata": {},
     "output_type": "execute_result"
    }
   ],
   "source": [
    "myfamily[\"child1\"]"
   ]
  },
  {
   "cell_type": "code",
   "execution_count": 8,
   "id": "144a060b-8599-464b-b3b7-74eb122453dc",
   "metadata": {},
   "outputs": [
    {
     "data": {
      "text/plain": [
       "'Emil'"
      ]
     },
     "execution_count": 8,
     "metadata": {},
     "output_type": "execute_result"
    }
   ],
   "source": [
    "myfamily[\"child1\"][\"name\"]"
   ]
  },
  {
   "cell_type": "code",
   "execution_count": 9,
   "id": "8e11412d-adf6-4e4d-adf8-3771495bb235",
   "metadata": {},
   "outputs": [],
   "source": [
    "child1 = {\n",
    "  \"name\" : \"Emil\",\n",
    "  \"year\" : 2004\n",
    "}\n",
    "\n",
    "\n",
    "\n",
    "child2 = {\n",
    "  \"name\" : \"Tobias\",\n",
    "  \"year\" : 2007\n",
    "}\n",
    "\n",
    "\n",
    "child3 = {\n",
    "  \"name\" : \"Linus\",\n",
    "  \"year\" : 2011\n",
    "}\n",
    "\n",
    "myfamily = {\n",
    "  \"child1\" : child1,\n",
    "  \"child2\" : child2,\n",
    "  \"child3\" : child3\n",
    "}"
   ]
  },
  {
   "cell_type": "code",
   "execution_count": 10,
   "id": "4243fe1d-14b3-4b14-ae0f-fac3907ebcb3",
   "metadata": {},
   "outputs": [
    {
     "data": {
      "text/plain": [
       "dict_values([{'name': 'Emil', 'year': 2004}, {'name': 'Tobias', 'year': 2007}, {'name': 'Linus', 'year': 2011}])"
      ]
     },
     "execution_count": 10,
     "metadata": {},
     "output_type": "execute_result"
    }
   ],
   "source": [
    "myfamily.values()"
   ]
  },
  {
   "cell_type": "code",
   "execution_count": 3,
   "id": "613fb412-8c1f-4e05-abcc-43fb4aefd871",
   "metadata": {},
   "outputs": [
    {
     "name": "stdout",
     "output_type": "stream",
     "text": [
      "Emil\n",
      "2004\n"
     ]
    }
   ],
   "source": [
    "child1 = {\"name\" : \"Emil\",\"year\" : 2004}\n",
    "for i in child1.values():\n",
    "    print(i)"
   ]
  },
  {
   "cell_type": "code",
   "execution_count": 13,
   "id": "41e68ab2-a560-4eaa-9061-5fc02389c942",
   "metadata": {},
   "outputs": [
    {
     "name": "stdout",
     "output_type": "stream",
     "text": [
      "('name', 'Emil')\n",
      "('year', 2004)\n"
     ]
    }
   ],
   "source": [
    "child1 = {\"name\" : \"Emil\",\"year\" : 2004}\n",
    "for i in child1.items():\n",
    "    print(i)"
   ]
  },
  {
   "cell_type": "code",
   "execution_count": 14,
   "id": "f253be8e-772d-4807-b1a4-1933777f9d73",
   "metadata": {},
   "outputs": [
    {
     "name": "stdout",
     "output_type": "stream",
     "text": [
      "name\n",
      "year\n"
     ]
    }
   ],
   "source": [
    "child1 = {\"name\" : \"Emil\",\"year\" : 2004}\n",
    "for i in child1.keys():\n",
    "    print(i)"
   ]
  },
  {
   "cell_type": "code",
   "execution_count": 15,
   "id": "0512fa1c-36b9-47c1-933c-44441c19858e",
   "metadata": {},
   "outputs": [
    {
     "name": "stdout",
     "output_type": "stream",
     "text": [
      "Emil\n",
      "2004\n"
     ]
    }
   ],
   "source": [
    "child1 = {\"name\" : \"Emil\",\"year\" : 2004}\n",
    "for i in child1.values():\n",
    "    print(i)"
   ]
  }
 ],
 "metadata": {
  "kernelspec": {
   "display_name": "Python 3 (ipykernel)",
   "language": "python",
   "name": "python3"
  },
  "language_info": {
   "codemirror_mode": {
    "name": "ipython",
    "version": 3
   },
   "file_extension": ".py",
   "mimetype": "text/x-python",
   "name": "python",
   "nbconvert_exporter": "python",
   "pygments_lexer": "ipython3",
   "version": "3.12.7"
  }
 },
 "nbformat": 4,
 "nbformat_minor": 5
}
