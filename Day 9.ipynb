{
 "cells": [
  {
   "cell_type": "code",
   "execution_count": 4,
   "id": "4389f392-3e1e-40b1-a9f6-74962dcb1c89",
   "metadata": {},
   "outputs": [
    {
     "name": "stdout",
     "output_type": "stream",
     "text": [
      "0\n",
      "1\n",
      "2\n",
      "3\n",
      "4\n",
      "5\n",
      "6\n",
      "7\n"
     ]
    }
   ],
   "source": [
    "i=0\n",
    "while i<8:\n",
    "  print(i)\n",
    "  i+=1"
   ]
  },
  {
   "cell_type": "code",
   "execution_count": 6,
   "id": "4b07db6d-f70f-46c4-a9dc-9c89a5a8cfc0",
   "metadata": {},
   "outputs": [
    {
     "name": "stdout",
     "output_type": "stream",
     "text": [
      "1\n",
      "2\n",
      "8\n",
      "26\n",
      "2\n",
      "4\n",
      "1\n"
     ]
    }
   ],
   "source": [
    "k=[1,2,8,26,2,4,1]\n",
    "i={}\n",
    "for i in k:\n",
    "    print(i)"
   ]
  },
  {
   "cell_type": "code",
   "execution_count": 7,
   "id": "e5481ef7-9f19-44ec-866a-12429884918e",
   "metadata": {},
   "outputs": [
    {
     "name": "stdout",
     "output_type": "stream",
     "text": [
      "{1: 1}\n",
      "{1: 1, 2: 1}\n",
      "{1: 1, 2: 1, 8: 1}\n",
      "{1: 1, 2: 1, 8: 1, 26: 1}\n",
      "{1: 1, 2: 1, 8: 1, 26: 1, 4: 1}\n"
     ]
    }
   ],
   "source": [
    "k=[1,2,8,26,2,4,1]\n",
    "s={}\n",
    "for i in k:\n",
    "    if i not in s:\n",
    "        s[i]=1\n",
    "        print(s)"
   ]
  },
  {
   "cell_type": "code",
   "execution_count": 8,
   "id": "a63eae9b-791f-4831-9314-40a73c73988c",
   "metadata": {},
   "outputs": [
    {
     "name": "stdout",
     "output_type": "stream",
     "text": [
      "6\n"
     ]
    }
   ],
   "source": [
    "def add(a,b):\n",
    "    c=a+b\n",
    "    print(c)\n",
    "add(2,4)"
   ]
  },
  {
   "cell_type": "code",
   "execution_count": 10,
   "id": "66f3226e-87f4-4679-acf0-54042907d1b7",
   "metadata": {},
   "outputs": [
    {
     "name": "stdout",
     "output_type": "stream",
     "text": [
      "8\n"
     ]
    }
   ],
   "source": [
    "\n",
    "def add(a,b):\n",
    "    c=a+b\n",
    "    print(b)\n",
    "add(a=2,b=8)\n"
   ]
  },
  {
   "cell_type": "code",
   "execution_count": 11,
   "id": "9d232d9d-d4c6-4bcf-a734-3f1c22406275",
   "metadata": {},
   "outputs": [
    {
     "name": "stdout",
     "output_type": "stream",
     "text": [
      "6\n"
     ]
    }
   ],
   "source": [
    "def add(a,b):\n",
    "    c=a+b\n",
    "    return(c)\n",
    "k=add(2,4)\n",
    "print(k)"
   ]
  },
  {
   "cell_type": "code",
   "execution_count": 12,
   "id": "c62c4ef4-954d-4669-89bc-e641e9c72d96",
   "metadata": {},
   "outputs": [
    {
     "name": "stdout",
     "output_type": "stream",
     "text": [
      "7\n"
     ]
    }
   ],
   "source": [
    "def add(a,b):\n",
    "    c=a+b\n",
    "    print(c)\n",
    "k=add(5,2)\n",
    "    "
   ]
  },
  {
   "cell_type": "code",
   "execution_count": 14,
   "id": "724b1e81-7ef6-4c54-9fd7-140448ee4296",
   "metadata": {},
   "outputs": [
    {
     "name": "stdout",
     "output_type": "stream",
     "text": [
      "1\n"
     ]
    }
   ],
   "source": [
    "def sub(a,b):\n",
    "    c=a-b\n",
    "    print(c)\n",
    "k=sub(9,8)"
   ]
  },
  {
   "cell_type": "code",
   "execution_count": 28,
   "id": "c6f4e490-c6ce-4260-a738-fcc5532e16b4",
   "metadata": {},
   "outputs": [],
   "source": [
    "def mul(a,b):\n",
    "    c=a*b\n",
    "    return(c)\n",
    "    k=multi(2*3)"
   ]
  },
  {
   "cell_type": "code",
   "execution_count": 27,
   "id": "686c4745-d05b-4293-b1b4-7315b370ca36",
   "metadata": {},
   "outputs": [],
   "source": [
    "def add(a,b):\n",
    "    c=a+b\n",
    "    return(c)\n",
    "    \n",
    "def sub(a,b):\n",
    "    c=a-b\n",
    "    return(c)\n",
    "k=add(2,3)\n",
    "k1=sub(5,2)"
   ]
  },
  {
   "cell_type": "code",
   "execution_count": 30,
   "id": "c18663e4-3b58-4703-b37a-db97eb5efe34",
   "metadata": {},
   "outputs": [
    {
     "name": "stdout",
     "output_type": "stream",
     "text": [
      "vik\n"
     ]
    }
   ],
   "source": [
    "k=\"viki\"\n",
    "print(k[:-1])"
   ]
  },
  {
   "cell_type": "code",
   "execution_count": 32,
   "id": "5744cf99-fa48-464e-9736-5ec4fcf6c80c",
   "metadata": {},
   "outputs": [],
   "source": [
    "def divi(a,b):\n",
    "    c=a/b\n",
    "    return(c)\n",
    "k4=divi(4,2)    "
   ]
  },
  {
   "cell_type": "code",
   "execution_count": null,
   "id": "3112c513-1261-47c1-ba34-d2e90cb9a0c7",
   "metadata": {},
   "outputs": [],
   "source": []
  }
 ],
 "metadata": {
  "kernelspec": {
   "display_name": "Python 3 (ipykernel)",
   "language": "python",
   "name": "python3"
  },
  "language_info": {
   "codemirror_mode": {
    "name": "ipython",
    "version": 3
   },
   "file_extension": ".py",
   "mimetype": "text/x-python",
   "name": "python",
   "nbconvert_exporter": "python",
   "pygments_lexer": "ipython3",
   "version": "3.12.7"
  }
 },
 "nbformat": 4,
 "nbformat_minor": 5
}
