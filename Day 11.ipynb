{
 "cells": [
  {
   "cell_type": "code",
   "execution_count": 1,
   "id": "31a835c5-524c-493b-9ef0-e03444889869",
   "metadata": {},
   "outputs": [
    {
     "name": "stdout",
     "output_type": "stream",
     "text": [
      "Emil\n",
      "2004\n"
     ]
    }
   ],
   "source": [
    "child1 = {\"name\" : \"Emil\",\"year\" : 2004}\n",
    "for i in child1.values():\n",
    "    print(i)"
   ]
  },
  {
   "cell_type": "code",
   "execution_count": 3,
   "id": "89fe9a49-aed3-46f1-afe7-4db3841c6f54",
   "metadata": {},
   "outputs": [
    {
     "ename": "IndentationError",
     "evalue": "unexpected indent (3620933364.py, line 2)",
     "output_type": "error",
     "traceback": [
      "\u001b[1;36m  Cell \u001b[1;32mIn[3], line 2\u001b[1;36m\u001b[0m\n\u001b[1;33m    for i in child.value():\u001b[0m\n\u001b[1;37m    ^\u001b[0m\n\u001b[1;31mIndentationError\u001b[0m\u001b[1;31m:\u001b[0m unexpected indent\n"
     ]
    }
   ],
   "source": [
    "d={1:2,2:1,33:2,43:1,56:1}\n",
    "   for i in child.value():\n",
    "    print(i)"
   ]
  },
  {
   "cell_type": "code",
   "execution_count": 6,
   "id": "ccf51380-6599-4984-821a-68d3a56ddab6",
   "metadata": {},
   "outputs": [
    {
     "name": "stdout",
     "output_type": "stream",
     "text": [
      "l\n",
      "i\n",
      "s\n",
      "e\n",
      "n\n",
      "t\n"
     ]
    }
   ],
   "source": [
    "l=\"silent\"\n",
    "l1=\"lisent\"\n",
    "for i in l1:\n",
    "    print(i)"
   ]
  },
  {
   "cell_type": "code",
   "execution_count": 9,
   "id": "f6f2a0fd-4d82-4e2e-a7e7-39e6488e5873",
   "metadata": {},
   "outputs": [
    {
     "name": "stdout",
     "output_type": "stream",
     "text": [
      "['e', 'i', 'l', 'n', 's', 't']\n",
      "['e', 'i', 'l', 'n', 's', 't']\n"
     ]
    }
   ],
   "source": [
    "l=\"silent\"\n",
    "l1=\"lisent\"\n",
    "k=sorted(l)\n",
    "k1=sorted(l1)\n",
    "print(k)\n",
    "print(k1)"
   ]
  },
  {
   "cell_type": "code",
   "execution_count": 12,
   "id": "12ac5306-f936-4732-957c-7f47649000c4",
   "metadata": {},
   "outputs": [
    {
     "ename": "SyntaxError",
     "evalue": "expected ':' (127615794.py, line 4)",
     "output_type": "error",
     "traceback": [
      "\u001b[1;36m  Cell \u001b[1;32mIn[12], line 4\u001b[1;36m\u001b[0m\n\u001b[1;33m    if i in l1\u001b[0m\n\u001b[1;37m              ^\u001b[0m\n\u001b[1;31mSyntaxError\u001b[0m\u001b[1;31m:\u001b[0m expected ':'\n"
     ]
    }
   ],
   "source": [
    "l=\"welcome\"\n",
    "l1=\"helloworld\"\n",
    "for i in l:\n",
    "    if i in l1\n",
    "    print(\"yes\")\n",
    "    "
   ]
  },
  {
   "cell_type": "code",
   "execution_count": null,
   "id": "98b37ad2-166e-4aaf-b02a-2b105ccb9dd2",
   "metadata": {},
   "outputs": [],
   "source": [
    "l=\"welcome\"\n",
    "l1=\"helloworld\"\n",
    "for i in l:\n",
    "    if i in l1\n",
    "    print(\"yes\")\n",
    "    "
   ]
  },
  {
   "cell_type": "code",
   "execution_count": 19,
   "id": "5fe1ed41-ef45-439d-bb8f-3e824877a732",
   "metadata": {},
   "outputs": [
    {
     "data": {
      "text/plain": [
       "'hi helioooooo'"
      ]
     },
     "execution_count": 19,
     "metadata": {},
     "output_type": "execute_result"
    }
   ],
   "source": [
    "f=open(\"python file.txt\",\"r\")\n",
    "f.read()\n"
   ]
  },
  {
   "cell_type": "code",
   "execution_count": 25,
   "id": "1792e9e0-aa07-4a59-962d-28f0b5d5c78e",
   "metadata": {},
   "outputs": [
    {
     "data": {
      "text/plain": [
       "<function TextIOWrapper.close()>"
      ]
     },
     "execution_count": 25,
     "metadata": {},
     "output_type": "execute_result"
    }
   ],
   "source": [
    "f=open(\"python file.txt\",\"w\")\n",
    "f.write(\"mythili\")\n",
    "f.close"
   ]
  },
  {
   "cell_type": "code",
   "execution_count": 26,
   "id": "dd85a25b-85c5-4fd2-9f20-8e9326226b3e",
   "metadata": {},
   "outputs": [
    {
     "data": {
      "text/plain": [
       "7"
      ]
     },
     "execution_count": 26,
     "metadata": {},
     "output_type": "execute_result"
    }
   ],
   "source": [
    "f=open(\"python file.txt\",\"w\")\n",
    "f.write(\"mythili\")"
   ]
  },
  {
   "cell_type": "code",
   "execution_count": null,
   "id": "494b4506-7646-4a0e-a15d-ef6a4aee1077",
   "metadata": {},
   "outputs": [],
   "source": []
  }
 ],
 "metadata": {
  "kernelspec": {
   "display_name": "Python 3 (ipykernel)",
   "language": "python",
   "name": "python3"
  },
  "language_info": {
   "codemirror_mode": {
    "name": "ipython",
    "version": 3
   },
   "file_extension": ".py",
   "mimetype": "text/x-python",
   "name": "python",
   "nbconvert_exporter": "python",
   "pygments_lexer": "ipython3",
   "version": "3.12.7"
  }
 },
 "nbformat": 4,
 "nbformat_minor": 5
}
