{
 "cells": [
  {
   "cell_type": "code",
   "execution_count": 2,
   "id": "e444727e-efac-4b26-addd-d0b6d4dd6bcc",
   "metadata": {},
   "outputs": [
    {
     "name": "stdout",
     "output_type": "stream",
     "text": [
      "False\n",
      "True\n"
     ]
    }
   ],
   "source": [
    "a=5\n",
    "b=12\n",
    "c=8\n",
    "print(a>b and b>c)\n",
    "print(b>c or c>a)"
   ]
  },
  {
   "cell_type": "code",
   "execution_count": 10,
   "id": "e89260f0-f206-4d55-bcc2-f2c6acecd03a",
   "metadata": {},
   "outputs": [
    {
     "name": "stdout",
     "output_type": "stream",
     "text": [
      "I like kiwi\n"
     ]
    }
   ],
   "source": [
    "k=\" I like apple \"\n",
    "x=k.strip()\n",
    "print(x.replace(\"apple\" , \"kiwi\"))"
   ]
  },
  {
   "cell_type": "code",
   "execution_count": null,
   "id": "8d6e2ad2-1c9b-4ed9-8417-adb1d8902dbd",
   "metadata": {},
   "outputs": [],
   "source": [
    "m"
   ]
  }
 ],
 "metadata": {
  "kernelspec": {
   "display_name": "Python 3 (ipykernel)",
   "language": "python",
   "name": "python3"
  },
  "language_info": {
   "codemirror_mode": {
    "name": "ipython",
    "version": 3
   },
   "file_extension": ".py",
   "mimetype": "text/x-python",
   "name": "python",
   "nbconvert_exporter": "python",
   "pygments_lexer": "ipython3",
   "version": "3.12.7"
  }
 },
 "nbformat": 4,
 "nbformat_minor": 5
}
