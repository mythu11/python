{
 "cells": [
  {
   "cell_type": "markdown",
   "id": "d0800dcf-81ab-41a2-9c7e-1013cc160262",
   "metadata": {},
   "source": [
    "# data types"
   ]
  },
  {
   "cell_type": "code",
   "execution_count": null,
   "id": "99e827fa-7fb5-4ddb-bade-ccff7c8126ed",
   "metadata": {},
   "outputs": [],
   "source": [
    "# i - integer\n",
    "# b - boolean\n",
    "# u - unsigned integer\n",
    "# f - float\n",
    "# c - complex float\n",
    "# S - string\n"
   ]
  },
  {
   "cell_type": "code",
   "execution_count": null,
   "id": "3a542875-cc80-4c87-baf1-a418325d5473",
   "metadata": {},
   "outputs": [],
   "source": [
    "import numpy as np\n",
    "\n",
    "a = np.array([1, 2, 3, 4])\n",
    "# print(type(a))\n",
    "print(a.dtype)"
   ]
  },
  {
   "cell_type": "code",
   "execution_count": null,
   "id": "e74ddc32-dee3-4bab-8a1b-32be4d5e1ce6",
   "metadata": {},
   "outputs": [],
   "source": [
    "a = np.array([\"ab\",\"hi6hvhjvhh\",\"ju8\"])\n",
    "\n",
    "print(a.dtype)\n",
    "\n",
    "\n",
    "\n",
    "#U: Represents a Unicode string data type in NumPy.\n",
    "#3: Indicates the maximum length of each string in the array, in terms of Unicode characters."
   ]
  },
  {
   "cell_type": "code",
   "execution_count": null,
   "id": "be906bf1-0ac4-4a59-9753-7a86338d8b72",
   "metadata": {},
   "outputs": [],
   "source": [
    "a = np.array([2.7,9.0])\n",
    "\n",
    "print(a.dtype)"
   ]
  },
  {
   "cell_type": "code",
   "execution_count": null,
   "id": "15230317-c80e-4cc4-b93e-cd6c6116da55",
   "metadata": {},
   "outputs": [],
   "source": [
    "a = np.array([1+3j])\n",
    "\n",
    "print(a.dtype)"
   ]
  },
  {
   "cell_type": "code",
   "execution_count": null,
   "id": "63586e04-ca23-4b79-b01a-8738edfb034b",
   "metadata": {},
   "outputs": [],
   "source": [
    "c=np.array([1,2,3,4],dtype='S')\n",
    "print(c)\n",
    "print(c.dtype)\n",
    "# type\n",
    "#byte strings"
   ]
  },
  {
   "cell_type": "code",
   "execution_count": null,
   "id": "abf5275f-19e5-42bc-a21e-964c6d61d845",
   "metadata": {},
   "outputs": [],
   "source": [
    "# i8 mention size\n",
    "a = np.array([1, 2, 3, 4], dtype='i8')\n",
    "\n",
    "print(a)\n",
    "print(a.dtype)"
   ]
  },
  {
   "cell_type": "code",
   "execution_count": null,
   "id": "06bb5f3a-050d-47ef-a7ac-56865844aa62",
   "metadata": {},
   "outputs": [],
   "source": [
    "#connot change integer\n",
    "\n",
    "a = np.array(['a', '2', '3'], dtype='i2')\n",
    "a"
   ]
  },
  {
   "cell_type": "code",
   "execution_count": null,
   "id": "f9d644c2-25b5-494b-bab8-a24c116b1c20",
   "metadata": {},
   "outputs": [],
   "source": [
    "a = np.array(['a', 'juookk882', '33893'], dtype='S')\n",
    "print(a)\n",
    "print(a.dtype)"
   ]
  },
  {
   "cell_type": "code",
   "execution_count": null,
   "id": "e6b1f49d-da2a-4e48-96ed-6899498348fe",
   "metadata": {},
   "outputs": [],
   "source": [
    "a = np.array(['1', '2', '3'], dtype='i8')\n",
    "print(a)\n",
    "print(a.dtype)"
   ]
  },
  {
   "cell_type": "code",
   "execution_count": null,
   "id": "f7bd5b01-c8d2-468b-939d-5845c5546f1b",
   "metadata": {},
   "outputs": [],
   "source": [
    "b=a.astype(\"S\")\n",
    "b"
   ]
  },
  {
   "cell_type": "code",
   "execution_count": null,
   "id": "c2fa7f14-3994-4be7-aa93-6e62b51284ed",
   "metadata": {},
   "outputs": [],
   "source": [
    "newa = np.array([1.1, 2.1, 3.1])\n",
    "\n",
    "newarr = newa.astype(int)\n",
    "\n",
    "print(newarr)\n",
    "print(newarr.dtype)"
   ]
  },
  {
   "cell_type": "code",
   "execution_count": null,
   "id": "60526b30-6549-408c-93d4-b69240fbd87d",
   "metadata": {},
   "outputs": [],
   "source": [
    "newa = np.array([\"1\", \"2\", \"3\"])\n",
    "\n",
    "newarr = newa.astype(\"i8\")\n",
    "\n",
    "print(newarr)\n",
    "print(newarr.dtype)"
   ]
  },
  {
   "cell_type": "code",
   "execution_count": null,
   "id": "f96c22c0-4fc4-49f2-b5c9-349d81cc8dcb",
   "metadata": {},
   "outputs": [],
   "source": [
    "newa = np.array([1, 0, 3])\n",
    "\n",
    "newarr = newa.astype(bool)\n",
    "\n",
    "print(newarr)\n",
    "\n",
    "print(newarr.dtype)"
   ]
  },
  {
   "cell_type": "markdown",
   "id": "9392ed6c-614a-43da-8306-1bc904f9710a",
   "metadata": {},
   "source": [
    "# Copy and view"
   ]
  },
  {
   "cell_type": "code",
   "execution_count": null,
   "id": "9c9a881b-dc24-41fe-9469-155e9703b29c",
   "metadata": {},
   "outputs": [],
   "source": [
    "import numpy as np\n",
    "\n",
    "a = np.array([1, 2, 3, 4, 5,8,10])\n",
    "\n",
    "\n",
    "\n",
    "x = a.copy()\n",
    "x[0] = 42\n",
    "\n",
    "print(a)\n",
    "print(x)"
   ]
  },
  {
   "cell_type": "code",
   "execution_count": null,
   "id": "7765896e-e4ae-45a2-8cb4-db24f0fbb53f",
   "metadata": {},
   "outputs": [],
   "source": [
    "a = np.array([1, 2, 3, 4, 5])\n",
    "x = a.view()\n",
    "x[0] = 42\n",
    "\n",
    "print(a)\n",
    "print(x)"
   ]
  },
  {
   "cell_type": "code",
   "execution_count": 11,
   "id": "70718e6b-bd40-477a-8b53-e4952d308422",
   "metadata": {},
   "outputs": [
    {
     "name": "stdout",
     "output_type": "stream",
     "text": [
      "Addition: [[5 7 9]\n",
      " [2 4 6]]\n",
      "Subtraction: [[-3 -3 -3]\n",
      " [ 0  0  0]]\n",
      "Multiplication: [[ 4 10 18]\n",
      " [ 1  4  9]]\n",
      "Division: [[0.25 0.4  0.5 ]\n",
      " [1.   1.   1.  ]]\n"
     ]
    }
   ],
   "source": [
    "\n",
    "import numpy as np\n",
    "\n",
    "# Arrays\n",
    "a = np.array([[1, 2, 3],[1, 2, 3]])\n",
    "b = np.array([[4, 5, 6],[1, 2, 3]])\n",
    "\n",
    "# Operations\n",
    "addition = a + b         # [5, 7, 9]\n",
    "subtraction = a - b      # [-3, -3, -3]\n",
    "multiplication = a * b   # [4, 10, 18]\n",
    "division = a / b         # [0.25, 0.4, 0.5]\n",
    "\n",
    "print(\"Addition:\", addition)\n",
    "print(\"Subtraction:\", subtraction)\n",
    "print(\"Multiplication:\", multiplication)\n",
    "print(\"Division:\", division)\n"
   ]
  },
  {
   "cell_type": "code",
   "execution_count": 10,
   "id": "5b181c37-0d2e-4473-8aa9-b9cd6ea22ff9",
   "metadata": {},
   "outputs": [
    {
     "data": {
      "text/plain": [
       "[(1, 2), (3, 34), (4, 45), (4, 8)]"
      ]
     },
     "execution_count": 10,
     "metadata": {},
     "output_type": "execute_result"
    }
   ],
   "source": [
    "l=[1,3,4,4]\n",
    "l1=[2,34,45,8]\n",
    "k=list(zip(l,l1))\n",
    "k  "
   ]
  },
  {
   "cell_type": "code",
   "execution_count": null,
   "id": "8d38fef2-256e-4a38-a2d3-3970e607fee0",
   "metadata": {},
   "outputs": [],
   "source": []
  }
 ],
 "metadata": {
  "kernelspec": {
   "display_name": "Python 3 (ipykernel)",
   "language": "python",
   "name": "python3"
  },
  "language_info": {
   "codemirror_mode": {
    "name": "ipython",
    "version": 3
   },
   "file_extension": ".py",
   "mimetype": "text/x-python",
   "name": "python",
   "nbconvert_exporter": "python",
   "pygments_lexer": "ipython3",
   "version": "3.12.7"
  }
 },
 "nbformat": 4,
 "nbformat_minor": 5
}
