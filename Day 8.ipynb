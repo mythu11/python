{
 "cells": [
  {
   "cell_type": "code",
   "execution_count": null,
   "id": "480678d2-7ffe-42ef-a73f-924590cb92ce",
   "metadata": {},
   "outputs": [],
   "source": [
    "k=[1,2,3,4,5]\n",
    "j=0\n"
   ]
  },
  {
   "cell_type": "code",
   "execution_count": 21,
   "id": "6091a1c5-d7fb-4f8c-9ba8-8e4f3d4d601c",
   "metadata": {},
   "outputs": [
    {
     "ename": "IndentationError",
     "evalue": "unexpected indent (404418721.py, line 3)",
     "output_type": "error",
     "traceback": [
      "\u001b[1;36m  Cell \u001b[1;32mIn[21], line 3\u001b[1;36m\u001b[0m\n\u001b[1;33m    for i in k:\u001b[0m\n\u001b[1;37m    ^\u001b[0m\n\u001b[1;31mIndentationError\u001b[0m\u001b[1;31m:\u001b[0m unexpected indent\n"
     ]
    }
   ],
   "source": [
    "k=[200,4,65,7,90]\n",
    "m=k[1]\n",
    "  for i in k:\n",
    "      if i<l:\n",
    "         i=l\n",
    "         print(m)"
   ]
  },
  {
   "cell_type": "code",
   "execution_count": 28,
   "id": "c260f435-2f5b-4db6-8b75-5a55cad91aa6",
   "metadata": {},
   "outputs": [],
   "source": [
    "i=9\n",
    "while i <=5:\n",
    "     print(i)"
   ]
  },
  {
   "cell_type": "code",
   "execution_count": 29,
   "id": "1d01dbb1-3d28-4b19-a199-14698aefb4df",
   "metadata": {},
   "outputs": [
    {
     "name": "stdout",
     "output_type": "stream",
     "text": [
      "0 1\n",
      "1 2\n",
      "2 33\n",
      "3 4\n",
      "4 54\n",
      "5 21\n"
     ]
    }
   ],
   "source": [
    "k=[1,2,33,4,54,21]\n",
    "for i in range(len(k)):\n",
    "    print(i,k[i])"
   ]
  },
  {
   "cell_type": "code",
   "execution_count": 33,
   "id": "df054766-13df-4646-a8ad-9849dd6d1132",
   "metadata": {},
   "outputs": [
    {
     "name": "stdout",
     "output_type": "stream",
     "text": [
      "0 1\n",
      "1 2\n",
      "2 33\n",
      "3 4\n",
      "4 54\n",
      "5 21\n"
     ]
    }
   ],
   "source": [
    "k=[1,2,33,4,54,21]\n",
    "for i,j in enumerate (k):\n",
    "    print(i,j)"
   ]
  },
  {
   "cell_type": "code",
   "execution_count": 40,
   "id": "fb1e4797-f3ff-49f1-a6cf-9b6270711885",
   "metadata": {},
   "outputs": [
    {
     "name": "stdout",
     "output_type": "stream",
     "text": [
      "6\n"
     ]
    }
   ],
   "source": [
    "def add():\n",
    " a=2\n",
    " b=4\n",
    "print(a+b)\n",
    "add()"
   ]
  },
  {
   "cell_type": "code",
   "execution_count": 45,
   "id": "50feaefe-4994-42ee-93d5-9f0cb24f84de",
   "metadata": {},
   "outputs": [
    {
     "name": "stdout",
     "output_type": "stream",
     "text": [
      "30\n"
     ]
    },
    {
     "ename": "NameError",
     "evalue": "name 'm' is not defined",
     "output_type": "error",
     "traceback": [
      "\u001b[1;31m---------------------------------------------------------------------------\u001b[0m",
      "\u001b[1;31mNameError\u001b[0m                                 Traceback (most recent call last)",
      "Cell \u001b[1;32mIn[45], line 8\u001b[0m\n\u001b[0;32m      6\u001b[0m     \u001b[38;5;28mprint\u001b[39m (k\u001b[38;5;241m-\u001b[39mm)\n\u001b[0;32m      7\u001b[0m add()\n\u001b[1;32m----> 8\u001b[0m sub()\n",
      "Cell \u001b[1;32mIn[45], line 6\u001b[0m, in \u001b[0;36msub\u001b[1;34m()\u001b[0m\n\u001b[0;32m      5\u001b[0m \u001b[38;5;28;01mdef\u001b[39;00m \u001b[38;5;21msub\u001b[39m():\n\u001b[1;32m----> 6\u001b[0m     \u001b[38;5;28mprint\u001b[39m (k\u001b[38;5;241m-\u001b[39mm)\n",
      "\u001b[1;31mNameError\u001b[0m: name 'm' is not defined"
     ]
    }
   ],
   "source": [
    "def add():\n",
    "    k=20\n",
    "    m=10\n",
    "    print (k+m)\n",
    "def sub():\n",
    "    print (k-m)\n",
    "add()\n",
    "sub()"
   ]
  },
  {
   "cell_type": "code",
   "execution_count": 1,
   "id": "05a62d46-6ea9-42b1-9da7-4f34578477a0",
   "metadata": {},
   "outputs": [
    {
     "name": "stdout",
     "output_type": "stream",
     "text": [
      "30\n",
      "10\n"
     ]
    }
   ],
   "source": [
    "def add():\n",
    "    k=20\n",
    "    m=10\n",
    "    print (k+m)\n",
    "def sub():\n",
    "    k=20\n",
    "    m=10\n",
    "    print (k-m)\n",
    "add()\n",
    "sub()"
   ]
  },
  {
   "cell_type": "code",
   "execution_count": null,
   "id": "f3149827-d8c5-4df1-8daf-1bf8bfa11556",
   "metadata": {},
   "outputs": [],
   "source": []
  }
 ],
 "metadata": {
  "kernelspec": {
   "display_name": "Python 3 (ipykernel)",
   "language": "python",
   "name": "python3"
  },
  "language_info": {
   "codemirror_mode": {
    "name": "ipython",
    "version": 3
   },
   "file_extension": ".py",
   "mimetype": "text/x-python",
   "name": "python",
   "nbconvert_exporter": "python",
   "pygments_lexer": "ipython3",
   "version": "3.12.7"
  }
 },
 "nbformat": 4,
 "nbformat_minor": 5
}
