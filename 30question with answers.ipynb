{
 "cells": [
  {
   "cell_type": "markdown",
   "id": "3a2df73e-f428-47cd-a20e-8461d6c5199f",
   "metadata": {},
   "source": [
    "# 1.anagram"
   ]
  },
  {
   "cell_type": "code",
   "execution_count": null,
   "id": "2727e9f4-548a-4897-a6d5-2e3c0879d3f7",
   "metadata": {},
   "outputs": [],
   "source": [
    "def is_anagram(str1, str2):\n",
    "    if count_chars(str1) == count_chars(str2):\n",
    "        print(count_chars(str1),count_chars(str2))\n",
    "        return True\n",
    "    return False\n",
    "\n",
    "def count_chars(s):\n",
    "    d = {}\n",
    "    for c in s:\n",
    "        if c in d:\n",
    "            d[c] += 1\n",
    "        else:\n",
    "            d[c] = 1\n",
    "    return d\n",
    "\n",
    "\n",
    "if is_anagram(\"silent\",\"listen\"):\n",
    "    print(\"anagram\")\n",
    "else:\n",
    "    print(\"not anagram\")"
   ]
  },
  {
   "cell_type": "markdown",
   "id": "a970254c-fae2-472d-9fdb-ef47bee4d772",
   "metadata": {},
   "source": [
    "# 2.Palindrome\n"
   ]
  },
  {
   "cell_type": "code",
   "execution_count": 10,
   "id": "5a2e44fe-c361-4937-a427-1a015bdea34f",
   "metadata": {},
   "outputs": [
    {
     "name": "stdout",
     "output_type": "stream",
     "text": [
      "yes palindrome\n"
     ]
    }
   ],
   "source": [
    "def is_Palindrome(str1):\n",
    "    if str1==str1[::-1]:\n",
    "        print(\"yes palindrome\")\n",
    "    else:\n",
    "        print(\"not a panlindrome\")\n",
    "    \n",
    "\n",
    "is_Palindrome(\"malayalam\")"
   ]
  },
  {
   "cell_type": "markdown",
   "id": "d8878728-8b18-4163-936c-8eefa12e6006",
   "metadata": {},
   "source": [
    "# 3.PRIME OR NOT A PRIME"
   ]
  },
  {
   "cell_type": "code",
   "execution_count": 1,
   "id": "e4550f55-1624-4fc0-80ea-510ce183c633",
   "metadata": {},
   "outputs": [
    {
     "name": "stdin",
     "output_type": "stream",
     "text": [
      "enter the number 2\n"
     ]
    },
    {
     "name": "stdout",
     "output_type": "stream",
     "text": [
      "its  a prime\n"
     ]
    }
   ],
   "source": [
    "# k=int(input(\"enter the number\"))\n",
    "def is_prime(k):\n",
    "    out=False\n",
    "    if k<=1:\n",
    "          print(\"not a prime number\")\n",
    "    else:\n",
    "        for i in range(2,k):\n",
    "            if k%i==0:\n",
    "                print(k%i)\n",
    "                out=True\n",
    "                break\n",
    "    \n",
    "        if out:\n",
    "            print(\"its not a prime\")\n",
    "        else:\n",
    "            print(\"its  a prime\")\n",
    "\n",
    "\n",
    "k=int(input(\"enter the number\"))\n",
    "is_prime(k)"
   ]
  },
  {
   "cell_type": "markdown",
   "id": "2d007ce9-753e-4c6b-8aff-6f3372e43b0f",
   "metadata": {},
   "source": [
    "# 4.fibonacci series"
   ]
  },
  {
   "cell_type": "code",
   "execution_count": 13,
   "id": "37ef93cc-9448-41cd-a3f4-248ae63513d8",
   "metadata": {},
   "outputs": [
    {
     "data": {
      "text/plain": [
       "[0, 1, 1, 2, 3, 5]"
      ]
     },
     "execution_count": 13,
     "metadata": {},
     "output_type": "execute_result"
    }
   ],
   "source": [
    "def fibonacci_series(n):\n",
    "    a=0\n",
    "    b=1\n",
    "    c=[]\n",
    "    while a<=n:\n",
    "        d=a+b\n",
    "        c.append(a)\n",
    "        a,b=b,d\n",
    "    return c\n",
    "fibonacci_series(5)"
   ]
  },
  {
   "cell_type": "markdown",
   "id": "75cd3148-2ed8-48f8-b3c1-c0395ed789ee",
   "metadata": {},
   "source": [
    "# 5.Maximum and Minimum Number"
   ]
  },
  {
   "cell_type": "code",
   "execution_count": 14,
   "id": "486a31d5-b3cf-437c-8dce-5fcf6f0bf133",
   "metadata": {},
   "outputs": [
    {
     "name": "stdout",
     "output_type": "stream",
     "text": [
      "112 min_num\n",
      "1 max_num\n"
     ]
    }
   ],
   "source": [
    "f=[1,3,4,5,112,3,4,5]\n",
    "max_num=f[0]\n",
    "min_num=f[0]\n",
    "for i in f:\n",
    "    if i<max_num:\n",
    "        max_num=i\n",
    "    if i>min_num:\n",
    "        min_num=i\n",
    "print(min_num,\"min_num\")\n",
    "print(max_num,\"max_num\")"
   ]
  },
  {
   "cell_type": "markdown",
   "id": "11889f35-3ca9-4985-a5b7-5bacc4a6080f",
   "metadata": {},
   "source": [
    "# 6.ascending and descending "
   ]
  },
  {
   "cell_type": "code",
   "execution_count": 15,
   "id": "af0e9591-4d62-4280-be69-29c914d5603d",
   "metadata": {},
   "outputs": [
    {
     "name": "stdout",
     "output_type": "stream",
     "text": [
      "[11278, 90, 66, 44, 5, 4, 3, 1, 1]\n"
     ]
    }
   ],
   "source": [
    "f=[1,3,4,5,11278,44,66,90,1]\n",
    "for i in range(len(f)):\n",
    "    for j in range(len(f)):\n",
    "        if f[i]>f[j]:\n",
    "            f[i],f[j]=f[j],f[i]\n",
    "print(f)\n",
    "    "
   ]
  },
  {
   "cell_type": "code",
   "execution_count": 16,
   "id": "f9611952-84f0-4d74-9d6b-482236d25bec",
   "metadata": {},
   "outputs": [
    {
     "name": "stdout",
     "output_type": "stream",
     "text": [
      "[1, 1, 3, 4, 5, 44, 66, 90, 11278]\n"
     ]
    }
   ],
   "source": [
    "f=[1,3,4,5,11278,44,66,90,1]\n",
    "for i in range(len(f)):\n",
    "    for j in range(len(f)):\n",
    "        if f[i]<f[j]:\n",
    "            f[i],f[j]=f[j],f[i]\n",
    "print(f)"
   ]
  },
  {
   "cell_type": "markdown",
   "id": "b34a55d0-e650-4ca1-97e4-a96c08941f87",
   "metadata": {},
   "source": [
    "# 7.2nd Largest and 2nd Smallest Number"
   ]
  },
  {
   "cell_type": "code",
   "execution_count": 19,
   "id": "9f38d62a-1cad-4acc-8a85-50ec68ed35ef",
   "metadata": {},
   "outputs": [
    {
     "name": "stdout",
     "output_type": "stream",
     "text": [
      "3 second smallest\n",
      "90 second largest\n"
     ]
    }
   ],
   "source": [
    "f=[1,3,4,5,11278,44,66,90]\n",
    "for i in range(len(f)):\n",
    "    for j in range(len(f)):\n",
    "        if f[i]<f[j]:\n",
    "            f[i],f[j]=f[j],f[i]\n",
    "print(f[1],\"second smallest\")\n",
    "print(f[-2],\"second largest\")"
   ]
  },
  {
   "cell_type": "markdown",
   "id": "5e9d26c2-744c-400e-9dfb-3a33f5185183",
   "metadata": {},
   "source": [
    "# 8.Check Even or Odd"
   ]
  },
  {
   "cell_type": "code",
   "execution_count": 22,
   "id": "542a3107-a044-4aac-819f-5faebc60ec85",
   "metadata": {},
   "outputs": [
    {
     "data": {
      "text/plain": [
       "'Even'"
      ]
     },
     "execution_count": 22,
     "metadata": {},
     "output_type": "execute_result"
    }
   ],
   "source": [
    "def even_or_odd(n):\n",
    "    if n % 2 == 0:\n",
    "        return \"Even\"\n",
    "    return \"Odd\"\n",
    "even_or_odd(6)"
   ]
  },
  {
   "cell_type": "markdown",
   "id": "deccf6bd-dcb6-4784-a914-22a7c064b74d",
   "metadata": {},
   "source": [
    "# 9. Count the Frequency of Elements in a List\n",
    "\n"
   ]
  },
  {
   "cell_type": "code",
   "execution_count": 26,
   "id": "9624a11f-98ef-46b1-97e3-72907761a7c1",
   "metadata": {},
   "outputs": [
    {
     "data": {
      "text/plain": [
       "{1: 2, 3: 2, 4: 1, 5: 1, 2: 1}"
      ]
     },
     "execution_count": 26,
     "metadata": {},
     "output_type": "execute_result"
    }
   ],
   "source": [
    "\n",
    "def frequent_elemnets(lst):\n",
    "\n",
    "    D={}\n",
    "    for i in lst:\n",
    "        if i not in D:\n",
    "            D[i]=1\n",
    "        else:\n",
    "            D[i]+=1\n",
    "    return D\n",
    "\n",
    "frequent_elemnets([1,3,4,5,1,2,3])\n",
    "\n"
   ]
  },
  {
   "cell_type": "markdown",
   "id": "b0a211bf-6e71-4dbd-ac26-d8f1e74d826e",
   "metadata": {},
   "source": [
    "## 10.Generate Multiplication Table"
   ]
  },
  {
   "cell_type": "code",
   "execution_count": 31,
   "id": "42146db2-0b25-494f-a66e-a74ca6affd89",
   "metadata": {},
   "outputs": [
    {
     "name": "stdout",
     "output_type": "stream",
     "text": [
      "1 x 5 = 5\n",
      "2 x 5 = 10\n",
      "3 x 5 = 15\n",
      "4 x 5 = 20\n",
      "5 x 5 = 25\n",
      "6 x 5 = 30\n",
      "7 x 5 = 35\n",
      "8 x 5 = 40\n",
      "9 x 5 = 45\n",
      "10 x 5 = 50\n"
     ]
    }
   ],
   "source": [
    "def multiplication_table(n):\n",
    "    i = 1\n",
    "    while i <= 10:\n",
    "        print(i, \"x\", n, \"=\", n * i)\n",
    "        i += 1\n",
    "\n",
    "# Sample\n",
    "multiplication_table(5)\n"
   ]
  },
  {
   "cell_type": "markdown",
   "id": "c5e953ed-d4db-4f54-aacc-9bad7b284d89",
   "metadata": {},
   "source": [
    "# 11.Remove Duplicates from List"
   ]
  },
  {
   "cell_type": "code",
   "execution_count": 30,
   "id": "58554d1c-a4aa-4c13-b4da-dbad75409955",
   "metadata": {},
   "outputs": [
    {
     "data": {
      "text/plain": [
       "[1, 23, 2, 22]"
      ]
     },
     "execution_count": 30,
     "metadata": {},
     "output_type": "execute_result"
    }
   ],
   "source": [
    "l=[1,23,2,1,23,22,1]\n",
    "\n",
    "def remove_dupli(l):\n",
    "    k=[]\n",
    "    for i in l:\n",
    "        if i not in k:\n",
    "            k.append(i)\n",
    "    return k\n",
    "\n",
    "\n",
    "remove_dupli([1,23,2,1,23,22,1])"
   ]
  },
  {
   "cell_type": "markdown",
   "id": "6d45f341-f631-43c0-8bb7-4d7161885c0b",
   "metadata": {},
   "source": [
    "## 12.Check if List is Palindrome|"
   ]
  },
  {
   "cell_type": "code",
   "execution_count": 39,
   "id": "2c742894-f972-462f-908c-1a7efe86cb7e",
   "metadata": {},
   "outputs": [
    {
     "data": {
      "text/plain": [
       "True"
      ]
     },
     "execution_count": 39,
     "metadata": {},
     "output_type": "execute_result"
    }
   ],
   "source": [
    "l=[\"a\", \"b\", \"c\", \"b\", \"a\"]\n",
    "def is_list_palindrome(lst):\n",
    "    length=0\n",
    "    out=True\n",
    "    for _ in l:\n",
    "        length+=1\n",
    "    for i  in range(length):\n",
    "        length-=1\n",
    "        if l[i]!=l[length]:\n",
    "            out=False\n",
    "            break\n",
    "        else:\n",
    "            out=True\n",
    "    return out\n",
    "\n",
    "\n",
    "is_list_palindrome(l)"
   ]
  },
  {
   "cell_type": "markdown",
   "id": "0bf8b3e5-eba5-4c45-b88b-4cd39fffaa7b",
   "metadata": {},
   "source": [
    "### 13.Check Leap Year"
   ]
  },
  {
   "cell_type": "code",
   "execution_count": 4,
   "id": "54f33786-44d2-4f81-bff8-a01b19491faf",
   "metadata": {},
   "outputs": [
    {
     "name": "stdout",
     "output_type": "stream",
     "text": [
      "Leap Year\n"
     ]
    }
   ],
   "source": [
    "year = 2040\n",
    "\n",
    "if (year%400 == 0) or (year%4==0 and year%100!=0):\n",
    "    print(\"Leap Year\")\n",
    "else:\n",
    "    print(\"Not a Leap Year\")"
   ]
  },
  {
   "cell_type": "code",
   "execution_count": null,
   "id": "d969b9a0-77f4-4010-967d-b6a412689e99",
   "metadata": {},
   "outputs": [],
   "source": []
  }
 ],
 "metadata": {
  "kernelspec": {
   "display_name": "Python 3 (ipykernel)",
   "language": "python",
   "name": "python3"
  },
  "language_info": {
   "codemirror_mode": {
    "name": "ipython",
    "version": 3
   },
   "file_extension": ".py",
   "mimetype": "text/x-python",
   "name": "python",
   "nbconvert_exporter": "python",
   "pygments_lexer": "ipython3",
   "version": "3.12.4"
  }
 },
 "nbformat": 4,
 "nbformat_minor": 5
}
