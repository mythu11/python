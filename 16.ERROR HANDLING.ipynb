{
 "cells": [
  {
   "cell_type": "markdown",
   "id": "8f5ba35a-c8a8-4138-8bcd-9dd17c704629",
   "metadata": {},
   "source": [
    "# try and except "
   ]
  },
  {
   "cell_type": "code",
   "execution_count": 5,
   "id": "daac814b-b52d-4f44-a35d-798a4da9a40b",
   "metadata": {},
   "outputs": [
    {
     "name": "stdout",
     "output_type": "stream",
     "text": [
      "dont / by 0\n"
     ]
    }
   ],
   "source": [
    "try:\n",
    "    a=1\n",
    "    b=0\n",
    "    print(a/c)\n",
    "except:\n",
    "    print(\"dont / by 0\")\n"
   ]
  },
  {
   "cell_type": "code",
   "execution_count": 3,
   "id": "23fb3e9c-3b5b-479c-84f9-f8b7b1193c21",
   "metadata": {},
   "outputs": [
    {
     "name": "stdout",
     "output_type": "stream",
     "text": [
      "error is occured\n"
     ]
    }
   ],
   "source": [
    "\n",
    "try:\n",
    "    a=10\n",
    "    b=0\n",
    "    print(a/b)\n",
    "except:\n",
    "    print(\"error is occured\")"
   ]
  },
  {
   "cell_type": "code",
   "execution_count": null,
   "id": "51f0aab3-b898-4a98-b13c-459dda5958c2",
   "metadata": {},
   "outputs": [],
   "source": []
  },
  {
   "cell_type": "code",
   "execution_count": 4,
   "id": "c3dadd19-a339-4e9f-9c40-f64b2923f02e",
   "metadata": {},
   "outputs": [
    {
     "ename": "NameError",
     "evalue": "name 'c' is not defined",
     "output_type": "error",
     "traceback": [
      "\u001b[1;31m---------------------------------------------------------------------------\u001b[0m",
      "\u001b[1;31mNameError\u001b[0m                                 Traceback (most recent call last)",
      "Cell \u001b[1;32mIn[4], line 3\u001b[0m\n\u001b[0;32m      1\u001b[0m a\u001b[38;5;241m=\u001b[39m\u001b[38;5;241m10\u001b[39m\n\u001b[0;32m      2\u001b[0m b\u001b[38;5;241m=\u001b[39m\u001b[38;5;241m0\u001b[39m\n\u001b[1;32m----> 3\u001b[0m \u001b[38;5;28mprint\u001b[39m(c)\n",
      "\u001b[1;31mNameError\u001b[0m: name 'c' is not defined"
     ]
    }
   ],
   "source": [
    "a=10\n",
    "b=0\n",
    "print(c)"
   ]
  },
  {
   "cell_type": "code",
   "execution_count": 10,
   "id": "dfb7200c-9ff1-44ba-8f78-1e015922fb37",
   "metadata": {},
   "outputs": [
    {
     "name": "stdout",
     "output_type": "stream",
     "text": [
      "ZeroDivisionError \n"
     ]
    }
   ],
   "source": [
    "try:\n",
    "    a=10\n",
    "    b=0\n",
    "    print(a/b)\n",
    "except NameError:\n",
    "    print(\"name error\")\n",
    "except ZeroDivisionError:\n",
    "    print(\"ZeroDivisionError \")"
   ]
  },
  {
   "cell_type": "code",
   "execution_count": null,
   "id": "f35c83c2-cf6f-40ed-b982-ada0d57077f9",
   "metadata": {},
   "outputs": [],
   "source": [
    "try:\n",
    "    a=10\n",
    "    print(b)\n",
    "except NameError:\n",
    "    print(\"name error\")\n",
    "except ZeroDivisionError:\n",
    "    print(\"ZeroDivisionError error\")"
   ]
  },
  {
   "cell_type": "code",
   "execution_count": 13,
   "id": "19753fe4-a85a-4b91-9309-60f2e92862f2",
   "metadata": {},
   "outputs": [
    {
     "name": "stdout",
     "output_type": "stream",
     "text": [
      "ZeroDivisionError error\n",
      "final\n"
     ]
    }
   ],
   "source": [
    "try:\n",
    "    a=10\n",
    "    print(a/b)\n",
    "except NameError:\n",
    "    print(\"name error\")\n",
    "except ZeroDivisionError:\n",
    "    print(\"ZeroDivisionError error\")\n",
    "finally:\n",
    "    print(\"final\")"
   ]
  },
  {
   "cell_type": "code",
   "execution_count": 12,
   "id": "95c95fd5-e954-4cea-9001-3b7532f3213e",
   "metadata": {},
   "outputs": [
    {
     "name": "stdout",
     "output_type": "stream",
     "text": [
      "name 'z' is not defined\n"
     ]
    }
   ],
   "source": [
    "try:\n",
    "    a=\"hioo\"\n",
    "    print(z)\n",
    "except Exception as e:\n",
    "    print(e)"
   ]
  },
  {
   "cell_type": "code",
   "execution_count": 14,
   "id": "bd4400e5-47b7-4b1f-a477-a096c76ee337",
   "metadata": {},
   "outputs": [
    {
     "name": "stdin",
     "output_type": "stream",
     "text": [
      "Enter a number:  0\n"
     ]
    },
    {
     "name": "stdout",
     "output_type": "stream",
     "text": [
      "Error: Cannot divide by zero\n",
      "Execution completed (Success or Failure)\n"
     ]
    }
   ],
   "source": [
    "\n",
    "try:\n",
    "    num = int(input(\"Enter a number: \"))\n",
    "    result = 10 / num\n",
    "    print(\"Result:\", result)\n",
    "except ValueError:\n",
    "    print(\"Error: Invalid input\")\n",
    "except ZeroDivisionError:\n",
    "    print(\"Error: Cannot divide by zero\")\n",
    "finally:\n",
    "    print(\"Execution completed (Success or Failure)\")  # Runs no matter what\n",
    "\n"
   ]
  },
  {
   "cell_type": "code",
   "execution_count": null,
   "id": "8f4e2201-792b-4b32-8048-0e831fd57ee1",
   "metadata": {},
   "outputs": [],
   "source": []
  }
 ],
 "metadata": {
  "kernelspec": {
   "display_name": "Python 3 (ipykernel)",
   "language": "python",
   "name": "python3"
  },
  "language_info": {
   "codemirror_mode": {
    "name": "ipython",
    "version": 3
   },
   "file_extension": ".py",
   "mimetype": "text/x-python",
   "name": "python",
   "nbconvert_exporter": "python",
   "pygments_lexer": "ipython3",
   "version": "3.12.7"
  }
 },
 "nbformat": 4,
 "nbformat_minor": 5
}
