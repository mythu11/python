{
 "cells": [
  {
   "cell_type": "markdown",
   "id": "fed93999-43a1-4e4f-90e1-a74ee1c1394f",
   "metadata": {},
   "source": [
    "### Encapsulation is one of the four main object-oriented programming (OOP) principles in Python. It refers to restricting access to certain data and methods within a class to protect it from unintended modification.\n",
    "\n",
    "#### 🔹 Encapsulation allows:\n",
    "\n",
    "#### Data hiding (restricting direct access to variables).\n",
    "#### vControlled access (using getter and setter methods).\n",
    "#### Better security (protects important data from accidental changes)."
   ]
  },
  {
   "cell_type": "markdown",
   "id": "610ec384-2ac4-4c20-af67-dd256351039d",
   "metadata": {},
   "source": [
    "# Public Members (No Encapsulation)"
   ]
  },
  {
   "cell_type": "code",
   "execution_count": 1,
   "id": "76e804be-669b-4964-aa97-3fcc5e6f4b45",
   "metadata": {},
   "outputs": [
    {
     "name": "stdout",
     "output_type": "stream",
     "text": [
      "Alice\n",
      "50000\n"
     ]
    }
   ],
   "source": [
    "class Employee:\n",
    "    def __init__(self, name, salary):\n",
    "        self.name = name  \n",
    "        self.salary = salary  \n",
    "\n",
    "emp = Employee(\"Alice\", 50000)\n",
    "\n",
    "\n",
    "print(emp.name)   \n",
    "\n",
    "print(emp.salary) \n"
   ]
  },
  {
   "cell_type": "markdown",
   "id": "1e83ede6-0589-4071-8295-c5c12940bc38",
   "metadata": {},
   "source": [
    "# Example: Protected Members (Encapsulation with _)"
   ]
  },
  {
   "cell_type": "code",
   "execution_count": 2,
   "id": "3419e671-e343-445e-b40e-f9d2c670d36f",
   "metadata": {},
   "outputs": [
    {
     "name": "stdout",
     "output_type": "stream",
     "text": [
      "Bob\n",
      "45000\n"
     ]
    }
   ],
   "source": [
    "class Employee:\n",
    "    def __init__(self, name, salary):\n",
    "        self.name = name  \n",
    "        self._salary = salary  \n",
    "\n",
    "emp = Employee(\"Bob\", 45000)\n",
    "print(emp.name)  \n",
    "print(emp._salary)  \n",
    "\n",
    "\n"
   ]
  },
  {
   "cell_type": "code",
   "execution_count": 3,
   "id": "e260a796-6d38-4404-875c-6f1ab761e577",
   "metadata": {},
   "outputs": [
    {
     "name": "stdout",
     "output_type": "stream",
     "text": [
      "Charlie\n"
     ]
    },
    {
     "ename": "AttributeError",
     "evalue": "'Employee' object has no attribute '__salary'",
     "output_type": "error",
     "traceback": [
      "\u001b[1;31m---------------------------------------------------------------------------\u001b[0m",
      "\u001b[1;31mAttributeError\u001b[0m                            Traceback (most recent call last)",
      "Cell \u001b[1;32mIn[3], line 8\u001b[0m\n\u001b[0;32m      6\u001b[0m emp \u001b[38;5;241m=\u001b[39m Employee(\u001b[38;5;124m\"\u001b[39m\u001b[38;5;124mCharlie\u001b[39m\u001b[38;5;124m\"\u001b[39m, \u001b[38;5;241m60000\u001b[39m)\n\u001b[0;32m      7\u001b[0m \u001b[38;5;28mprint\u001b[39m(emp\u001b[38;5;241m.\u001b[39mname)  \u001b[38;5;66;03m# ✅ Allowed\u001b[39;00m\n\u001b[1;32m----> 8\u001b[0m \u001b[38;5;28mprint\u001b[39m(emp\u001b[38;5;241m.\u001b[39m__salary)\n",
      "\u001b[1;31mAttributeError\u001b[0m: 'Employee' object has no attribute '__salary'"
     ]
    }
   ],
   "source": [
    "class Employee:\n",
    "    def __init__(self, name, salary):\n",
    "        self.name = name  # Public\n",
    "        self.__salary = salary  # Private (double underscore)\n",
    "\n",
    "emp = Employee(\"Charlie\", 60000)\n",
    "print(emp.name)  # ✅ Allowed\n",
    "print(emp.__salary)  # ❌ AttributeError: 'Employee' object has no attribute '__salary'\n"
   ]
  },
  {
   "cell_type": "code",
   "execution_count": null,
   "id": "23a38c06-170a-4f80-a00f-4f7b5915c46d",
   "metadata": {},
   "outputs": [],
   "source": [
    "class Employee:\n",
    "    def __init__(self, name, salary):\n",
    "        self.name = name  # Public\n",
    "        self.__salary = salary  # Private (double underscore)\n",
    "    def empl(self):\n",
    "        print(self.__salary)\n",
    "emp = Employee(\"Charlie\", 60000)\n",
    "print(emp.name)  # ✅ Allowed\n",
    "# print(emp.__salary)  # ❌ AttributeError: 'Employee' object has no attribute '__salary'\n",
    "emp.empl()"
   ]
  },
  {
   "cell_type": "code",
   "execution_count": null,
   "id": "233b1f9e-a11f-4347-b4bc-bffad3716ca8",
   "metadata": {},
   "outputs": [],
   "source": [
    "class Employee:\n",
    "    def __init__(self, name, salary):\n",
    "        self.name = name\n",
    "        self.__salary = salary  # Private attribute\n",
    "\n",
    "    # Getter method\n",
    "    def get_salary(self):\n",
    "        return self.__salary\n",
    "\n",
    "    # Setter method\n",
    "    def set_salary(self, new_salary):\n",
    "        if new_salary > 0:\n",
    "            self.__salary = new_salary\n",
    "        else:\n",
    "            print(\"Invalid salary!\")\n",
    "\n",
    "# Usage\n",
    "emp = Employee(\"David\", 50000)\n",
    "print(emp.get_salary())  # ✅ Output: 50000\n",
    "\n",
    "emp.set_salary(55000)  # Updating salary\n",
    "print(emp.get_salary())  # ✅ Output: 55000\n",
    "\n",
    "emp.set_salary(-1000)  # ❌ Output: Invalid salary!\n"
   ]
  },
  {
   "cell_type": "code",
   "execution_count": null,
   "id": "06fd10f0-a544-4506-8aea-de4be17291d2",
   "metadata": {},
   "outputs": [],
   "source": [
    "class university:\n",
    "    def college(self):\n",
    "        print(\"abc college\")\n",
    "        \n",
    "        \n",
    "    def __department(self):\n",
    "        print(\"EEE\")\n",
    "\n",
    "    def depatments(self):\n",
    "        self.__department()\n",
    "        \n",
    "\n",
    "uni=university()\n",
    "uni.depatments()"
   ]
  },
  {
   "cell_type": "code",
   "execution_count": 6,
   "id": "8568af2a-c956-4d44-84bf-90dad59c2ab1",
   "metadata": {},
   "outputs": [
    {
     "ename": "AttributeError",
     "evalue": "'lib' object has no attribute '__lib4'",
     "output_type": "error",
     "traceback": [
      "\u001b[1;31m---------------------------------------------------------------------------\u001b[0m",
      "\u001b[1;31mAttributeError\u001b[0m                            Traceback (most recent call last)",
      "Cell \u001b[1;32mIn[6], line 16\u001b[0m\n\u001b[0;32m     14\u001b[0m         \u001b[38;5;28mprint\u001b[39m(\u001b[38;5;28mself\u001b[39m\u001b[38;5;241m.\u001b[39m__book1)\n\u001b[0;32m     15\u001b[0m obj\u001b[38;5;241m=\u001b[39mlib()\n\u001b[1;32m---> 16\u001b[0m obj\u001b[38;5;241m.\u001b[39m__lib4()\n",
      "\u001b[1;31mAttributeError\u001b[0m: 'lib' object has no attribute '__lib4'"
     ]
    }
   ],
   "source": [
    "class lib:\n",
    "    def __init__(self):\n",
    "        self.__book1=\"book1\"\n",
    "        self.book2=\"book2\"\n",
    "        self.__book3=\"book3\"\n",
    "        \n",
    "    def lib2(self):\n",
    "        print(self.book2)\n",
    "        \n",
    "    def lib3(self):\n",
    "        self.__lib4()\n",
    "    \n",
    "    def __lib4(self):\n",
    "        print(self.__book1)\n",
    "obj=lib()\n",
    "obj.__lib4()\n",
    "        "
   ]
  },
  {
   "cell_type": "code",
   "execution_count": null,
   "id": "3a86a3ac-51a2-4c1b-92bd-911a0fb1bbb0",
   "metadata": {},
   "outputs": [],
   "source": []
  }
 ],
 "metadata": {
  "kernelspec": {
   "display_name": "Python 3 (ipykernel)",
   "language": "python",
   "name": "python3"
  },
  "language_info": {
   "codemirror_mode": {
    "name": "ipython",
    "version": 3
   },
   "file_extension": ".py",
   "mimetype": "text/x-python",
   "name": "python",
   "nbconvert_exporter": "python",
   "pygments_lexer": "ipython3",
   "version": "3.12.4"
  }
 },
 "nbformat": 4,
 "nbformat_minor": 5
}
