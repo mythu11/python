{
 "cells": [
  {
   "cell_type": "code",
   "execution_count": 6,
   "id": "33e6085d-83de-4cd7-a8be-c2749ce77b89",
   "metadata": {},
   "outputs": [
    {
     "name": "stdout",
     "output_type": "stream",
     "text": [
      "['hellowo', 'ld']\n"
     ]
    }
   ],
   "source": [
    "Split:\n",
    "k=\"hello\" \"world\"\n",
    "print(k.split(\"r\"))"
   ]
  },
  {
   "cell_type": "code",
   "execution_count": 8,
   "id": "46bd98ff-fdb4-47f8-8971-bfbe9b54f17e",
   "metadata": {},
   "outputs": [
    {
     "ename": "SyntaxError",
     "evalue": "invalid syntax. Perhaps you forgot a comma? (317858357.py, line 3)",
     "output_type": "error",
     "traceback": [
      "\u001b[1;36m  Cell \u001b[1;32mIn[8], line 3\u001b[1;36m\u001b[0m\n\u001b[1;33m    k=f\"{hi im a from b}\u001b[0m\n\u001b[1;37m         ^\u001b[0m\n\u001b[1;31mSyntaxError\u001b[0m\u001b[1;31m:\u001b[0m invalid syntax. Perhaps you forgot a comma?\n"
     ]
    }
   ],
   "source": [
    "a=mythili\n",
    "b=tvm\n",
    "k=f\"{hi im a from b}\n",
    "print(k)"
   ]
  },
  {
   "cell_type": "code",
   "execution_count": null,
   "id": "479b18a6-6044-4306-bb5d-dc7535ea4284",
   "metadata": {},
   "outputs": [],
   "source": []
  }
 ],
 "metadata": {
  "kernelspec": {
   "display_name": "Python 3 (ipykernel)",
   "language": "python",
   "name": "python3"
  },
  "language_info": {
   "codemirror_mode": {
    "name": "ipython",
    "version": 3
   },
   "file_extension": ".py",
   "mimetype": "text/x-python",
   "name": "python",
   "nbconvert_exporter": "python",
   "pygments_lexer": "ipython3",
   "version": "3.12.7"
  }
 },
 "nbformat": 4,
 "nbformat_minor": 5
}
