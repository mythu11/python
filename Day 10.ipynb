{
 "cells": [
  {
   "cell_type": "code",
   "execution_count": 2,
   "id": "7f01fe57-59c9-412e-ab15-5dcc0ff8e13e",
   "metadata": {},
   "outputs": [
    {
     "name": "stdout",
     "output_type": "stream",
     "text": [
      "error\n"
     ]
    }
   ],
   "source": [
    "try:\n",
    "    a=8\n",
    "    b=0\n",
    "    print(a/b)\n",
    "except:\n",
    "    print(\"error\")"
   ]
  },
  {
   "cell_type": "code",
   "execution_count": 3,
   "id": "dc1dd536-d51c-45e4-822a-6cae9c23dc9d",
   "metadata": {},
   "outputs": [
    {
     "name": "stdout",
     "output_type": "stream",
     "text": [
      "hi\n"
     ]
    }
   ],
   "source": [
    "try:\n",
    "    a=8\n",
    "    b=0\n",
    "    print(a/b)\n",
    "except:\n",
    "    print(\"hi\")"
   ]
  },
  {
   "cell_type": "code",
   "execution_count": 12,
   "id": "8fd47a62-d9e1-4dba-a368-591d79b61c19",
   "metadata": {},
   "outputs": [
    {
     "name": "stdout",
     "output_type": "stream",
     "text": [
      "zero division error\n"
     ]
    }
   ],
   "source": [
    "try:\n",
    "    a=3\n",
    "    b=0\n",
    "    print(a/b)\n",
    "except NameError:\n",
    "    print(\"name error\")\n",
    "except ZeroDivisionError:\n",
    "    print(\"zero division error\")"
   ]
  },
  {
   "cell_type": "code",
   "execution_count": 21,
   "id": "24657cf0-b330-445e-8f12-c7667e67e288",
   "metadata": {},
   "outputs": [
    {
     "name": "stdout",
     "output_type": "stream",
     "text": [
      "21\n"
     ]
    }
   ],
   "source": [
    "try:\n",
    "    a=3\n",
    "    b=18\n",
    "    print(a+b)\n",
    "except NameError:\n",
    "    print(\"name error\")\n",
    "except ZeroDivisionError:\n",
    "    print(\"zero division error\")"
   ]
  },
  {
   "cell_type": "code",
   "execution_count": 13,
   "id": "58dc0966-495d-459a-bcf4-aa8dc3e7c2e5",
   "metadata": {},
   "outputs": [
    {
     "name": "stdout",
     "output_type": "stream",
     "text": [
      "name error\n"
     ]
    }
   ],
   "source": [
    "try:\n",
    "    a=8\n",
    "    print(r)\n",
    "except NameError:\n",
    "    print(\"name error\")\n",
    "except ZeroDivisionError:\n",
    "    print(\"zero division error\")"
   ]
  },
  {
   "cell_type": "code",
   "execution_count": 14,
   "id": "7a5b1c99-836a-453a-b8cd-7256acd229be",
   "metadata": {},
   "outputs": [
    {
     "name": "stdout",
     "output_type": "stream",
     "text": [
      "0\n"
     ]
    }
   ],
   "source": [
    "try:\n",
    "    a=4\n",
    "    print(b)\n",
    "except NameError:\n",
    "    print(\"name error\")\n",
    "except ZeroDivisionError:\n",
    "    print(\"zero division error\")"
   ]
  },
  {
   "cell_type": "code",
   "execution_count": 17,
   "id": "dd8ae760-94ea-4b21-a5ef-3d916df54fda",
   "metadata": {},
   "outputs": [
    {
     "name": "stdout",
     "output_type": "stream",
     "text": [
      "can only concatenate str (not \"int\") to str\n"
     ]
    }
   ],
   "source": [
    "try:\n",
    "    a=\"hi\"\n",
    "    print(a+4)\n",
    "except Exception as e:\n",
    "    print(e)"
   ]
  },
  {
   "cell_type": "code",
   "execution_count": 18,
   "id": "8ac379f9-fb22-48a1-b3ac-d17c36399498",
   "metadata": {},
   "outputs": [
    {
     "name": "stdout",
     "output_type": "stream",
     "text": [
      "5\n"
     ]
    }
   ],
   "source": [
    "try:\n",
    "    a=2\n",
    "    b=3\n",
    "    print(a+b)\n",
    "except Exception as e:\n",
    "    print(e)"
   ]
  },
  {
   "cell_type": "code",
   "execution_count": 20,
   "id": "140d2bbb-a097-40e3-9d93-1c00e12afa76",
   "metadata": {},
   "outputs": [
    {
     "name": "stdout",
     "output_type": "stream",
     "text": [
      "name 'i' is not defined\n"
     ]
    }
   ],
   "source": [
    "try:\n",
    "    a=\"hi\"\n",
    "    print(i)\n",
    "except Exception as e:\n",
    "    print(e)"
   ]
  },
  {
   "cell_type": "code",
   "execution_count": 27,
   "id": "2f54f60c-344a-4848-b622-caf6d2df6478",
   "metadata": {},
   "outputs": [
    {
     "name": "stdout",
     "output_type": "stream",
     "text": [
      "mythili\n"
     ]
    }
   ],
   "source": [
    "try:\n",
    "    a=\"mythili\"\n",
    "    print(\"mythili\")\n",
    "except Exception as e:\n",
    "    print(e)\n",
    "except Finaly:\n",
    "    print(\"mythili\")"
   ]
  },
  {
   "cell_type": "code",
   "execution_count": null,
   "id": "42b24891-5ad1-4292-8f85-c7265da2671b",
   "metadata": {},
   "outputs": [],
   "source": [
    "a=[1,2,3,4]\n",
    "for i in k:\n",
    "    "
   ]
  }
 ],
 "metadata": {
  "kernelspec": {
   "display_name": "Python 3 (ipykernel)",
   "language": "python",
   "name": "python3"
  },
  "language_info": {
   "codemirror_mode": {
    "name": "ipython",
    "version": 3
   },
   "file_extension": ".py",
   "mimetype": "text/x-python",
   "name": "python",
   "nbconvert_exporter": "python",
   "pygments_lexer": "ipython3",
   "version": "3.12.7"
  }
 },
 "nbformat": 4,
 "nbformat_minor": 5
}
